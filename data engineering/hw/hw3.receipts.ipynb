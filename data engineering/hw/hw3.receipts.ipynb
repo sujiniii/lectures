{
 "cells": [
  {
   "cell_type": "code",
   "execution_count": 1,
   "id": "79c26094-152a-4ed2-ac6b-0a0f9ef216f1",
   "metadata": {},
   "outputs": [],
   "source": [
    "# 과제 3: Carly's Clippers\n",
    "# hairstyles: the names of the cuts offered at Carly’s Clippers.\n",
    "hairstyles = [\"bouffant\", \"pixie\", \"dreadlocks\", \"crew\", \"bowl\", \"bob\", \"mohawk\", \"flattop\"]\n",
    "# prices: the price of each hairstyle in the hairstyles list.\n",
    "prices = [30, 25, 40, 20, 20, 35, 50, 35]\n",
    "# last_week: the number of purchases for each hairstyle type in the last week.\n",
    "last_week = [2, 3, 5, 8, 4, 4, 6, 2]"
   ]
  },
  {
   "cell_type": "code",
   "execution_count": 2,
   "id": "960d60a0-c6e7-4df0-a9a4-d562e0132eae",
   "metadata": {},
   "outputs": [
    {
     "name": "stdout",
     "output_type": "stream",
     "text": [
      "Average price is 31.875\n"
     ]
    }
   ],
   "source": [
    "# Prices and Cuts\n",
    "total_price = 0\n",
    "for i in prices:\n",
    "    total_price = total_price + i\n",
    "size = len(prices)\n",
    "average_price = total_price / size\n",
    "print('Average price is',average_price )"
   ]
  },
  {
   "cell_type": "code",
   "execution_count": 3,
   "id": "100903ac-bad4-4566-8d69-b8b3d328ab9c",
   "metadata": {},
   "outputs": [
    {
     "name": "stdout",
     "output_type": "stream",
     "text": [
      "[25, 20, 35, 15, 15, 30, 45, 30]\n"
     ]
    }
   ],
   "source": [
    "new_prices=[]\n",
    "for i in range(size):\n",
    "    new_prices.append(prices[i] - 5)\n",
    "print(new_prices);"
   ]
  },
  {
   "cell_type": "code",
   "execution_count": 5,
   "id": "37e70b5e-5ff4-4efb-8fb7-d1dc3015af37",
   "metadata": {},
   "outputs": [
    {
     "name": "stdout",
     "output_type": "stream",
     "text": [
      "Total revenue is 1085\n",
      "Average daily revenue is 155.0\n"
     ]
    }
   ],
   "source": [
    "# Revenue\n",
    "total_revenue = 0;\n",
    "size2 = len(hairstyles)\n",
    "for i in range(size2):\n",
    "    total_revenue = total_revenue + (prices[i] * last_week[i])\n",
    "print('Total revenue is',total_revenue)\n",
    "average_daily_revenue = total_revenue / 7\n",
    "print('Average daily revenue is',average_daily_revenue)"
   ]
  },
  {
   "cell_type": "code",
   "execution_count": 6,
   "id": "12761465-1544-44cf-bcab-454631cca43b",
   "metadata": {},
   "outputs": [
    {
     "name": "stdout",
     "output_type": "stream",
     "text": [
      "['bouffant', 'pixie', 'crew', 'bowl']\n"
     ]
    }
   ],
   "source": [
    "cuts_under_30=[]\n",
    "for i in range(len(new_prices)-1):\n",
    "    if new_prices[i]<30 : \n",
    "        cuts_under_30.append(hairstyles[i]) \n",
    "print(cuts_under_30)"
   ]
  }
 ],
 "metadata": {
  "kernelspec": {
   "display_name": "Python 3 (ipykernel)",
   "language": "python",
   "name": "python3"
  },
  "language_info": {
   "codemirror_mode": {
    "name": "ipython",
    "version": 3
   },
   "file_extension": ".py",
   "mimetype": "text/x-python",
   "name": "python",
   "nbconvert_exporter": "python",
   "pygments_lexer": "ipython3",
   "version": "3.9.5"
  }
 },
 "nbformat": 4,
 "nbformat_minor": 5
}
