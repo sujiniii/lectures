{
 "cells": [
  {
   "cell_type": "code",
   "execution_count": 32,
   "id": "4bbcd365-2d7b-404f-8cfb-220f61ce1a19",
   "metadata": {},
   "outputs": [
    {
     "name": "stdout",
     "output_type": "stream",
     "text": [
      "[['physics', 98], ['calculus', 97], ['poetry', 85], ['history', 88]]\n"
     ]
    }
   ],
   "source": [
    "# 과제2: Gradebook\n",
    "# 1.\n",
    "subjects = [\"physics\",\"calculus\",\"poetry\",\"history\"]\n",
    "# 2.\n",
    "grades = [98,97,85,88]\n",
    "# 3.\n",
    "gradebook = [[\"physics\",98],[\"calculus\",97],[\"poetry\",85],[\"history\",88]]\n",
    "# 4.\n",
    "print(gradebook)"
   ]
  },
  {
   "cell_type": "code",
   "execution_count": 33,
   "id": "99f9dc03-3ec2-4663-843d-eb9a93da9876",
   "metadata": {},
   "outputs": [
    {
     "name": "stdout",
     "output_type": "stream",
     "text": [
      "[['physics', 98], ['calculus', 97], ['poetry', 85], ['history', 88], ['computer science', 100], ['visual arts', 93]]\n"
     ]
    }
   ],
   "source": [
    "# 컴퓨터 과학 성적 gradebook에 추가\n",
    "gradebook.append([\"computer science\",100])\n",
    "# 시각 예술 성적 gradebook에 추가\n",
    "gradebook.append([\"visual arts\",93])\n",
    "print(gradebook)"
   ]
  },
  {
   "cell_type": "code",
   "execution_count": 34,
   "id": "0cdff41c-c89f-4442-bc7a-03da5cec5a2c",
   "metadata": {},
   "outputs": [
    {
     "name": "stdout",
     "output_type": "stream",
     "text": [
      "[['physics', 98], ['calculus', 97], ['poetry', 'pass'], ['history', 88], ['computer science', 100], ['visual arts', 98]]\n"
     ]
    }
   ],
   "source": [
    "# Modify The Gradebook\n",
    "gradebook[5][1]=98\n",
    "gradebook[2].remove(85)\n",
    "gradebook[2].append(\"pass\")\n",
    "print(gradebook)"
   ]
  },
  {
   "cell_type": "code",
   "execution_count": 35,
   "id": "69eb6b51-27ad-414b-b058-9c333d10a562",
   "metadata": {},
   "outputs": [
    {
     "name": "stdout",
     "output_type": "stream",
     "text": [
      "[['politics', 80], ['latin', 96], ['dance', 97], ['architecture', 65], ['physics', 98], ['calculus', 97], ['poetry', 'pass'], ['history', 88], ['computer science', 100], ['visual arts', 98]]\n"
     ]
    }
   ],
   "source": [
    "# One Big Gradebook!\n",
    "last_semester_gradebook = [[\"politics\", 80], [\"latin\", 96], [\"dance\", 97], [\"architecture\", 65]]\n",
    "full_gradebook=last_semester_gradebook+gradebook\n",
    "print(full_gradebook)"
   ]
  }
 ],
 "metadata": {
  "kernelspec": {
   "display_name": "Python 3 (ipykernel)",
   "language": "python",
   "name": "python3"
  },
  "language_info": {
   "codemirror_mode": {
    "name": "ipython",
    "version": 3
   },
   "file_extension": ".py",
   "mimetype": "text/x-python",
   "name": "python",
   "nbconvert_exporter": "python",
   "pygments_lexer": "ipython3",
   "version": "3.9.5"
  }
 },
 "nbformat": 4,
 "nbformat_minor": 5
}
