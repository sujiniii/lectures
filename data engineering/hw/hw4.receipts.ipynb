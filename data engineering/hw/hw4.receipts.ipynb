{
 "cells": [
  {
   "cell_type": "code",
   "execution_count": 21,
   "id": "766c0b77-02e3-4d85-aa46-70474f15f0dd",
   "metadata": {},
   "outputs": [
    {
     "name": "stdout",
     "output_type": "stream",
     "text": [
      "당신의 조선시대 이름은 하 방 룡 입니다.\n"
     ]
    }
   ],
   "source": [
    "# 성(family name), 태어난 달(month)과 태어난 날짜(day)를 입력받아 나의 조선시대 이름을 출력하는 함수를 작성하시오.\n",
    "def get_my_chosun_name(f_n,m,d):\n",
    "    month=['쌍', '쇠', '복', '돌', '팽', '육', '쌍', '개', '칠', '갑', '삼', '방']\n",
    "    day=['봉', '구', '욕', '포', '똥', '삼', '식', '석', '놈', '님', '년', '돌', '단', '득', '방', '질', '장', '걸', '래', '룡', '동', '순', '자', '박', '창', '언', '것', '포', '만', '단', '국']\n",
    "    return f_n,month[m-1],day[d-1]\n",
    "\n",
    "family_name, month, day = get_my_chosun_name('하', 12, 20)\n",
    "print('당신의 조선시대 이름은',family_name, month, day,'입니다.')"
   ]
  },
  {
   "cell_type": "code",
   "execution_count": null,
   "id": "a301398e-4c08-424d-906f-9b50d2ca6d12",
   "metadata": {},
   "outputs": [],
   "source": []
  }
 ],
 "metadata": {
  "kernelspec": {
   "display_name": "Python 3 (ipykernel)",
   "language": "python",
   "name": "python3"
  },
  "language_info": {
   "codemirror_mode": {
    "name": "ipython",
    "version": 3
   },
   "file_extension": ".py",
   "mimetype": "text/x-python",
   "name": "python",
   "nbconvert_exporter": "python",
   "pygments_lexer": "ipython3",
   "version": "3.9.5"
  }
 },
 "nbformat": 4,
 "nbformat_minor": 5
}
